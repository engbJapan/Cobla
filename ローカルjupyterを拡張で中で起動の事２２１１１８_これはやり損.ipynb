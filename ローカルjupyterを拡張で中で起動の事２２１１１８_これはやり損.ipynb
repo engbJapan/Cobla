{
  "nbformat": 4,
  "nbformat_minor": 0,
  "metadata": {
    "colab": {
      "provenance": [],
      "include_colab_link": true
    },
    "kernelspec": {
      "name": "python3",
      "display_name": "Python 3"
    },
    "language_info": {
      "name": "python"
    }
  },
  "cells": [
    {
      "cell_type": "markdown",
      "metadata": {
        "id": "view-in-github",
        "colab_type": "text"
      },
      "source": [
        "<a href=\"https://colab.research.google.com/github/engbJapan/Cobla/blob/master/%E3%83%AD%E3%83%BC%E3%82%AB%E3%83%ABjupyter%E3%82%92%E6%8B%A1%E5%BC%B5%E3%81%A7%E4%B8%AD%E3%81%A7%E8%B5%B7%E5%8B%95%E3%81%AE%E4%BA%8B%EF%BC%92%EF%BC%92%EF%BC%91%EF%BC%91%EF%BC%91%EF%BC%98_%E3%81%93%E3%82%8C%E3%81%AF%E3%82%84%E3%82%8A%E6%90%8D.ipynb\" target=\"_parent\"><img src=\"https://colab.research.google.com/assets/colab-badge.svg\" alt=\"Open In Colab\"/></a>"
      ]
    },
    {
      "cell_type": "markdown",
      "source": [
        "# suテスト"
      ],
      "metadata": {
        "id": "w-h0ifsc8jJ3"
      }
    },
    {
      "cell_type": "code",
      "execution_count": 1,
      "metadata": {
        "colab": {
          "base_uri": "https://localhost:8080/"
        },
        "id": "wNOXGz7C8iif",
        "outputId": "44230d72-c52b-482c-d922-1c944bdb1627"
      },
      "outputs": [
        {
          "output_type": "stream",
          "name": "stdout",
          "text": [
            "uid=1000(engbjapan) gid=1000(engbjapan) groups=1000(engbjapan),0(root)\n"
          ]
        }
      ],
      "source": [
        "!useradd -m engbjapan\n",
        "!usermod -G root engbjapan\n",
        "!id engbjapan"
      ]
    },
    {
      "cell_type": "code",
      "source": [
        "!su -c 'id;ls -la;' engbjapan"
      ],
      "metadata": {
        "colab": {
          "base_uri": "https://localhost:8080/"
        },
        "id": "jEyR02gK9H0V",
        "outputId": "1dcd064c-4237-4e63-ae4e-dde03739802a"
      },
      "execution_count": 2,
      "outputs": [
        {
          "output_type": "stream",
          "name": "stdout",
          "text": [
            "uid=1000(engbjapan) gid=1000(engbjapan) groups=1000(engbjapan),0(root)\n",
            "total 16\n",
            "drwxr-xr-x 1 root root 4096 Nov 17 14:32 .\n",
            "drwxr-xr-x 1 root root 4096 Nov 19 02:35 ..\n",
            "drwxr-xr-x 4 root root 4096 Nov 17 14:31 .config\n",
            "drwxr-xr-x 1 root root 4096 Nov 17 14:32 sample_data\n"
          ]
        }
      ]
    },
    {
      "cell_type": "code",
      "source": [
        "!su - engbjapan -c \"jupyter notebook --generate-config\""
      ],
      "metadata": {
        "colab": {
          "base_uri": "https://localhost:8080/"
        },
        "id": "o-uTD2CMYJal",
        "outputId": "815bb6d3-60ce-4a11-9d76-1d4e8bc8ed4b"
      },
      "execution_count": 3,
      "outputs": [
        {
          "output_type": "stream",
          "name": "stdout",
          "text": [
            "Writing default config to: /home/engbjapan/.jupyter/jupyter_notebook_config.py\n"
          ]
        }
      ]
    },
    {
      "cell_type": "code",
      "source": [
        "!pip install jupyter_http_over_ws -qq\n",
        "!su - engbjapan -c 'jupyter serverextension enable --py jupyter_http_over_ws'"
      ],
      "metadata": {
        "colab": {
          "base_uri": "https://localhost:8080/"
        },
        "id": "z1JHjzdcxqG8",
        "outputId": "6c3623e5-ebda-4e72-eb76-4ee1d068d564"
      },
      "execution_count": 28,
      "outputs": [
        {
          "output_type": "stream",
          "name": "stdout",
          "text": [
            "\u001b[?25l\r\u001b[K     |▏                               | 10 kB 19.2 MB/s eta 0:00:01\r\u001b[K     |▍                               | 20 kB 14.1 MB/s eta 0:00:01\r\u001b[K     |▋                               | 30 kB 18.4 MB/s eta 0:00:01\r\u001b[K     |▉                               | 40 kB 7.4 MB/s eta 0:00:01\r\u001b[K     |█                               | 51 kB 7.6 MB/s eta 0:00:01\r\u001b[K     |█▎                              | 61 kB 8.8 MB/s eta 0:00:01\r\u001b[K     |█▌                              | 71 kB 8.4 MB/s eta 0:00:01\r\u001b[K     |█▊                              | 81 kB 9.3 MB/s eta 0:00:01\r\u001b[K     |█▉                              | 92 kB 9.5 MB/s eta 0:00:01\r\u001b[K     |██                              | 102 kB 8.2 MB/s eta 0:00:01\r\u001b[K     |██▎                             | 112 kB 8.2 MB/s eta 0:00:01\r\u001b[K     |██▌                             | 122 kB 8.2 MB/s eta 0:00:01\r\u001b[K     |██▊                             | 133 kB 8.2 MB/s eta 0:00:01\r\u001b[K     |███                             | 143 kB 8.2 MB/s eta 0:00:01\r\u001b[K     |███▏                            | 153 kB 8.2 MB/s eta 0:00:01\r\u001b[K     |███▍                            | 163 kB 8.2 MB/s eta 0:00:01\r\u001b[K     |███▌                            | 174 kB 8.2 MB/s eta 0:00:01\r\u001b[K     |███▊                            | 184 kB 8.2 MB/s eta 0:00:01\r\u001b[K     |████                            | 194 kB 8.2 MB/s eta 0:00:01\r\u001b[K     |████▏                           | 204 kB 8.2 MB/s eta 0:00:01\r\u001b[K     |████▍                           | 215 kB 8.2 MB/s eta 0:00:01\r\u001b[K     |████▋                           | 225 kB 8.2 MB/s eta 0:00:01\r\u001b[K     |████▉                           | 235 kB 8.2 MB/s eta 0:00:01\r\u001b[K     |█████                           | 245 kB 8.2 MB/s eta 0:00:01\r\u001b[K     |█████▎                          | 256 kB 8.2 MB/s eta 0:00:01\r\u001b[K     |█████▍                          | 266 kB 8.2 MB/s eta 0:00:01\r\u001b[K     |█████▋                          | 276 kB 8.2 MB/s eta 0:00:01\r\u001b[K     |█████▉                          | 286 kB 8.2 MB/s eta 0:00:01\r\u001b[K     |██████                          | 296 kB 8.2 MB/s eta 0:00:01\r\u001b[K     |██████▎                         | 307 kB 8.2 MB/s eta 0:00:01\r\u001b[K     |██████▌                         | 317 kB 8.2 MB/s eta 0:00:01\r\u001b[K     |██████▊                         | 327 kB 8.2 MB/s eta 0:00:01\r\u001b[K     |███████                         | 337 kB 8.2 MB/s eta 0:00:01\r\u001b[K     |███████                         | 348 kB 8.2 MB/s eta 0:00:01\r\u001b[K     |███████▎                        | 358 kB 8.2 MB/s eta 0:00:01\r\u001b[K     |███████▌                        | 368 kB 8.2 MB/s eta 0:00:01\r\u001b[K     |███████▊                        | 378 kB 8.2 MB/s eta 0:00:01\r\u001b[K     |████████                        | 389 kB 8.2 MB/s eta 0:00:01\r\u001b[K     |████████▏                       | 399 kB 8.2 MB/s eta 0:00:01\r\u001b[K     |████████▍                       | 409 kB 8.2 MB/s eta 0:00:01\r\u001b[K     |████████▋                       | 419 kB 8.2 MB/s eta 0:00:01\r\u001b[K     |████████▉                       | 430 kB 8.2 MB/s eta 0:00:01\r\u001b[K     |█████████                       | 440 kB 8.2 MB/s eta 0:00:01\r\u001b[K     |█████████▏                      | 450 kB 8.2 MB/s eta 0:00:01\r\u001b[K     |█████████▍                      | 460 kB 8.2 MB/s eta 0:00:01\r\u001b[K     |█████████▋                      | 471 kB 8.2 MB/s eta 0:00:01\r\u001b[K     |█████████▉                      | 481 kB 8.2 MB/s eta 0:00:01\r\u001b[K     |██████████                      | 491 kB 8.2 MB/s eta 0:00:01\r\u001b[K     |██████████▎                     | 501 kB 8.2 MB/s eta 0:00:01\r\u001b[K     |██████████▌                     | 512 kB 8.2 MB/s eta 0:00:01\r\u001b[K     |██████████▋                     | 522 kB 8.2 MB/s eta 0:00:01\r\u001b[K     |██████████▉                     | 532 kB 8.2 MB/s eta 0:00:01\r\u001b[K     |███████████                     | 542 kB 8.2 MB/s eta 0:00:01\r\u001b[K     |███████████▎                    | 552 kB 8.2 MB/s eta 0:00:01\r\u001b[K     |███████████▌                    | 563 kB 8.2 MB/s eta 0:00:01\r\u001b[K     |███████████▊                    | 573 kB 8.2 MB/s eta 0:00:01\r\u001b[K     |████████████                    | 583 kB 8.2 MB/s eta 0:00:01\r\u001b[K     |████████████▏                   | 593 kB 8.2 MB/s eta 0:00:01\r\u001b[K     |████████████▍                   | 604 kB 8.2 MB/s eta 0:00:01\r\u001b[K     |████████████▌                   | 614 kB 8.2 MB/s eta 0:00:01\r\u001b[K     |████████████▊                   | 624 kB 8.2 MB/s eta 0:00:01\r\u001b[K     |█████████████                   | 634 kB 8.2 MB/s eta 0:00:01\r\u001b[K     |█████████████▏                  | 645 kB 8.2 MB/s eta 0:00:01\r\u001b[K     |█████████████▍                  | 655 kB 8.2 MB/s eta 0:00:01\r\u001b[K     |█████████████▋                  | 665 kB 8.2 MB/s eta 0:00:01\r\u001b[K     |█████████████▉                  | 675 kB 8.2 MB/s eta 0:00:01\r\u001b[K     |██████████████                  | 686 kB 8.2 MB/s eta 0:00:01\r\u001b[K     |██████████████▏                 | 696 kB 8.2 MB/s eta 0:00:01\r\u001b[K     |██████████████▍                 | 706 kB 8.2 MB/s eta 0:00:01\r\u001b[K     |██████████████▋                 | 716 kB 8.2 MB/s eta 0:00:01\r\u001b[K     |██████████████▉                 | 727 kB 8.2 MB/s eta 0:00:01\r\u001b[K     |███████████████                 | 737 kB 8.2 MB/s eta 0:00:01\r\u001b[K     |███████████████▎                | 747 kB 8.2 MB/s eta 0:00:01\r\u001b[K     |███████████████▌                | 757 kB 8.2 MB/s eta 0:00:01\r\u001b[K     |███████████████▊                | 768 kB 8.2 MB/s eta 0:00:01\r\u001b[K     |████████████████                | 778 kB 8.2 MB/s eta 0:00:01\r\u001b[K     |████████████████                | 788 kB 8.2 MB/s eta 0:00:01\r\u001b[K     |████████████████▎               | 798 kB 8.2 MB/s eta 0:00:01\r\u001b[K     |████████████████▌               | 808 kB 8.2 MB/s eta 0:00:01\r\u001b[K     |████████████████▊               | 819 kB 8.2 MB/s eta 0:00:01\r\u001b[K     |█████████████████               | 829 kB 8.2 MB/s eta 0:00:01\r\u001b[K     |█████████████████▏              | 839 kB 8.2 MB/s eta 0:00:01\r\u001b[K     |█████████████████▍              | 849 kB 8.2 MB/s eta 0:00:01\r\u001b[K     |█████████████████▋              | 860 kB 8.2 MB/s eta 0:00:01\r\u001b[K     |█████████████████▊              | 870 kB 8.2 MB/s eta 0:00:01\r\u001b[K     |██████████████████              | 880 kB 8.2 MB/s eta 0:00:01\r\u001b[K     |██████████████████▏             | 890 kB 8.2 MB/s eta 0:00:01\r\u001b[K     |██████████████████▍             | 901 kB 8.2 MB/s eta 0:00:01\r\u001b[K     |██████████████████▋             | 911 kB 8.2 MB/s eta 0:00:01\r\u001b[K     |██████████████████▉             | 921 kB 8.2 MB/s eta 0:00:01\r\u001b[K     |███████████████████             | 931 kB 8.2 MB/s eta 0:00:01\r\u001b[K     |███████████████████▎            | 942 kB 8.2 MB/s eta 0:00:01\r\u001b[K     |███████████████████▌            | 952 kB 8.2 MB/s eta 0:00:01\r\u001b[K     |███████████████████▋            | 962 kB 8.2 MB/s eta 0:00:01\r\u001b[K     |███████████████████▉            | 972 kB 8.2 MB/s eta 0:00:01\r\u001b[K     |████████████████████            | 983 kB 8.2 MB/s eta 0:00:01\r\u001b[K     |████████████████████▎           | 993 kB 8.2 MB/s eta 0:00:01\r\u001b[K     |████████████████████▌           | 1.0 MB 8.2 MB/s eta 0:00:01\r\u001b[K     |████████████████████▊           | 1.0 MB 8.2 MB/s eta 0:00:01\r\u001b[K     |█████████████████████           | 1.0 MB 8.2 MB/s eta 0:00:01\r\u001b[K     |█████████████████████▏          | 1.0 MB 8.2 MB/s eta 0:00:01\r\u001b[K     |█████████████████████▎          | 1.0 MB 8.2 MB/s eta 0:00:01\r\u001b[K     |█████████████████████▌          | 1.1 MB 8.2 MB/s eta 0:00:01\r\u001b[K     |█████████████████████▊          | 1.1 MB 8.2 MB/s eta 0:00:01\r\u001b[K     |██████████████████████          | 1.1 MB 8.2 MB/s eta 0:00:01\r\u001b[K     |██████████████████████▏         | 1.1 MB 8.2 MB/s eta 0:00:01\r\u001b[K     |██████████████████████▍         | 1.1 MB 8.2 MB/s eta 0:00:01\r\u001b[K     |██████████████████████▋         | 1.1 MB 8.2 MB/s eta 0:00:01\r\u001b[K     |██████████████████████▉         | 1.1 MB 8.2 MB/s eta 0:00:01\r\u001b[K     |███████████████████████         | 1.1 MB 8.2 MB/s eta 0:00:01\r\u001b[K     |███████████████████████▏        | 1.1 MB 8.2 MB/s eta 0:00:01\r\u001b[K     |███████████████████████▍        | 1.1 MB 8.2 MB/s eta 0:00:01\r\u001b[K     |███████████████████████▋        | 1.2 MB 8.2 MB/s eta 0:00:01\r\u001b[K     |███████████████████████▉        | 1.2 MB 8.2 MB/s eta 0:00:01\r\u001b[K     |████████████████████████        | 1.2 MB 8.2 MB/s eta 0:00:01\r\u001b[K     |████████████████████████▎       | 1.2 MB 8.2 MB/s eta 0:00:01\r\u001b[K     |████████████████████████▌       | 1.2 MB 8.2 MB/s eta 0:00:01\r\u001b[K     |████████████████████████▊       | 1.2 MB 8.2 MB/s eta 0:00:01\r\u001b[K     |████████████████████████▉       | 1.2 MB 8.2 MB/s eta 0:00:01\r\u001b[K     |█████████████████████████       | 1.2 MB 8.2 MB/s eta 0:00:01\r\u001b[K     |█████████████████████████▎      | 1.2 MB 8.2 MB/s eta 0:00:01\r\u001b[K     |█████████████████████████▌      | 1.2 MB 8.2 MB/s eta 0:00:01\r\u001b[K     |█████████████████████████▊      | 1.3 MB 8.2 MB/s eta 0:00:01\r\u001b[K     |██████████████████████████      | 1.3 MB 8.2 MB/s eta 0:00:01\r\u001b[K     |██████████████████████████▏     | 1.3 MB 8.2 MB/s eta 0:00:01\r\u001b[K     |██████████████████████████▍     | 1.3 MB 8.2 MB/s eta 0:00:01\r\u001b[K     |██████████████████████████▌     | 1.3 MB 8.2 MB/s eta 0:00:01\r\u001b[K     |██████████████████████████▊     | 1.3 MB 8.2 MB/s eta 0:00:01\r\u001b[K     |███████████████████████████     | 1.3 MB 8.2 MB/s eta 0:00:01\r\u001b[K     |███████████████████████████▏    | 1.3 MB 8.2 MB/s eta 0:00:01\r\u001b[K     |███████████████████████████▍    | 1.3 MB 8.2 MB/s eta 0:00:01\r\u001b[K     |███████████████████████████▋    | 1.4 MB 8.2 MB/s eta 0:00:01\r\u001b[K     |███████████████████████████▉    | 1.4 MB 8.2 MB/s eta 0:00:01\r\u001b[K     |████████████████████████████    | 1.4 MB 8.2 MB/s eta 0:00:01\r\u001b[K     |████████████████████████████▎   | 1.4 MB 8.2 MB/s eta 0:00:01\r\u001b[K     |████████████████████████████▍   | 1.4 MB 8.2 MB/s eta 0:00:01\r\u001b[K     |████████████████████████████▋   | 1.4 MB 8.2 MB/s eta 0:00:01\r\u001b[K     |████████████████████████████▉   | 1.4 MB 8.2 MB/s eta 0:00:01\r\u001b[K     |█████████████████████████████   | 1.4 MB 8.2 MB/s eta 0:00:01\r\u001b[K     |█████████████████████████████▎  | 1.4 MB 8.2 MB/s eta 0:00:01\r\u001b[K     |█████████████████████████████▌  | 1.4 MB 8.2 MB/s eta 0:00:01\r\u001b[K     |█████████████████████████████▊  | 1.5 MB 8.2 MB/s eta 0:00:01\r\u001b[K     |██████████████████████████████  | 1.5 MB 8.2 MB/s eta 0:00:01\r\u001b[K     |██████████████████████████████  | 1.5 MB 8.2 MB/s eta 0:00:01\r\u001b[K     |██████████████████████████████▎ | 1.5 MB 8.2 MB/s eta 0:00:01\r\u001b[K     |██████████████████████████████▌ | 1.5 MB 8.2 MB/s eta 0:00:01\r\u001b[K     |██████████████████████████████▊ | 1.5 MB 8.2 MB/s eta 0:00:01\r\u001b[K     |███████████████████████████████ | 1.5 MB 8.2 MB/s eta 0:00:01\r\u001b[K     |███████████████████████████████▏| 1.5 MB 8.2 MB/s eta 0:00:01\r\u001b[K     |███████████████████████████████▍| 1.5 MB 8.2 MB/s eta 0:00:01\r\u001b[K     |███████████████████████████████▋| 1.5 MB 8.2 MB/s eta 0:00:01\r\u001b[K     |███████████████████████████████▉| 1.6 MB 8.2 MB/s eta 0:00:01\r\u001b[K     |████████████████████████████████| 1.6 MB 8.2 MB/s eta 0:00:01\r\u001b[K     |████████████████████████████████| 1.6 MB 8.2 MB/s \n",
            "\u001b[?25hEnabling: jupyter_http_over_ws\n",
            "- Writing config: /home/engbjapan/.jupyter\n",
            "    - Validating...\n",
            "      jupyter_http_over_ws 0.0.7 \u001b[32mOK\u001b[0m\n"
          ]
        }
      ]
    },
    {
      "cell_type": "code",
      "source": [
        "!cat /home/engbjapan/.jupyter/jupyter_notebook_config.py"
      ],
      "metadata": {
        "id": "-PUDY3bwYmKl"
      },
      "execution_count": null,
      "outputs": []
    },
    {
      "cell_type": "code",
      "source": [
        "%%bash\n",
        "cat <<EPF >> /home/engbjapan/.jupyter/jupyter_notebook_config.py\n",
        "\"\"\"Jupyter notebook server configuration for Colab runtimes.\"\"\"\n",
        "\n",
        "import logging\n",
        "\n",
        "\n",
        "c.JupyterApp.answer_yes = True\n",
        "c.NotebookApp.open_browser = False\n",
        "\n",
        "c.NotebookApp.allow_root = True\n",
        "\n",
        "c.Application.log_level = logging.DEBUG\n",
        "c.NotebookApp.log_format = '|%(levelname)s|%(message)s'\n",
        "\n",
        "c.NotebookApp.port_retries = 0\n",
        "\n",
        "c.NotebookApp.login_handler_class = (\n",
        "    'google.colab._login_handler.ColabLoginHandler')\n",
        "\n",
        "c.MultiKernelManager.default_kernel_name = 'python3'\n",
        "\n",
        "c.NotebookApp.allow_origin = '*'\n",
        "c.NotebookApp.allow_remote_access = True\n",
        "c.NotebookApp.disable_check_xsrf = True\n",
        "c.NotebookApp.token = 'engbjapan'\n",
        "c.Session.key = b''\n",
        "c.Session.keyfile = ''\n",
        "EPF"
      ],
      "metadata": {
        "id": "7sEbwTwVwV4W"
      },
      "execution_count": 6,
      "outputs": []
    },
    {
      "cell_type": "code",
      "source": [
        "!cat /home/engbjapan/.jupyter/jupyter_notebook_config.py|egrep '^([^\\\\s|\\#].*)'"
      ],
      "metadata": {
        "colab": {
          "base_uri": "https://localhost:8080/"
        },
        "id": "-sA3QcPDwt9i",
        "outputId": "5457b7b2-119a-4f12-edb7-43acfc125eb6"
      },
      "execution_count": 29,
      "outputs": [
        {
          "output_type": "stream",
          "name": "stdout",
          "text": [
            "\"\"\"Jupyter notebook server configuration for Colab runtimes.\"\"\"\n",
            "import logging\n",
            "c.JupyterApp.answer_yes = True\n",
            "c.NotebookApp.open_browser = False\n",
            "c.NotebookApp.allow_root = True\n",
            "c.Application.log_level = logging.DEBUG\n",
            "c.NotebookApp.log_format = '|%(levelname)s|%(message)s'\n",
            "c.NotebookApp.port_retries = 0\n",
            "c.NotebookApp.login_handler_class = (\n",
            "    'google.colab._login_handler.ColabLoginHandler')\n",
            "c.MultiKernelManager.default_kernel_name = 'python3'\n",
            "c.NotebookApp.allow_origin = '*'\n",
            "c.NotebookApp.allow_remote_access = True\n",
            "c.NotebookApp.disable_check_xsrf = True\n",
            "c.NotebookApp.token = 'engbjapan'\n",
            "c.Session.key = b''\n",
            "c.Session.keyfile = ''\n"
          ]
        }
      ]
    },
    {
      "cell_type": "markdown",
      "source": [
        "デフォルトのConfigは以下"
      ],
      "metadata": {
        "id": "qwHeAlWXd32u"
      }
    },
    {
      "cell_type": "code",
      "source": [
        "import subprocess,shlex\n",
        "\n",
        "def 実行(cmdlines:str,out=subprocess.PIPE):\n",
        "  sb=subprocess.Popen(\n",
        "    shlex.split(cmdlines.replace('\\n',' '))\n",
        "    ,stdout=out\n",
        "    ,stderr=subprocess.STDOUT\n",
        "  )\n",
        "  return sb\n",
        "\n",
        "#sb=実行(\"bash -c 'sleep 30;printf \\\"id\\\"' &\")\n",
        "\n",
        "#print(f\"sb.pid:{sb.pid}\")\n",
        "#!ps -Af\n",
        "#sb.communicate()[0]\n"
      ],
      "metadata": {
        "id": "irjUCVSmR3ks"
      },
      "execution_count": 10,
      "outputs": []
    },
    {
      "cell_type": "code",
      "source": [
        "sb=実行(\"su - engbjapan -c 'jupyter notebook --ip=127.0.0.1 --port=18888 --NotebookApp.allow_origin=\\'https://colab.research.google.com\\''\")\n",
        "\n",
        "pid=print(f\"sb.pid:{sb.pid}\")\n",
        "\n",
        "#sb.stdout\n",
        "\n",
        "#sb.kill()#効かねー\n",
        "#!kill -9 1701\n",
        "#!ps -Afl\n",
        "\"\"\"\n",
        "4 S root         233      75  0  80   0 - 20192 wait   02:44 ?        00:00:00 su - engbjapan -c jupyter notebook --ip=127.0.0.1 --port=18888\n",
        "4 S engbjap+     234     233  0  80   0 -  1160 wait   02:44 ?        00:00:00 -su -c jupyter notebook --ip=127.0.0.1 --port=18888\n",
        "4 S engbjap+     237\n",
        "\"\"\"\n",
        "#!kill -9 233\n",
        "#!kill -9 234\n",
        "#!kill -9 237"
      ],
      "metadata": {
        "colab": {
          "base_uri": "https://localhost:8080/"
        },
        "id": "I8_E0HEPm9NQ",
        "outputId": "35c2e0cd-3981-4b98-9db5-7b2b3da6be3e"
      },
      "execution_count": 34,
      "outputs": [
        {
          "output_type": "stream",
          "name": "stdout",
          "text": [
            "F S UID          PID    PPID  C PRI  NI ADDR SZ WCHAN  STIME TTY          TIME CMD\n",
            "4 S root           1       0  0  80   0 -   252 sigtim 02:35 ?        00:00:00 /sbin/docker-init -- /datalab/run.sh\n",
            "4 S root           7       1  0  80   0 - 86171 epoll_ 02:35 ?        00:00:04 /tools/node/bin/node /datalab/web/app.js\n",
            "4 S root          18       0  0  80   0 -  8975 se_sys 02:35 ?        00:00:00 tail -n +0 -F /root/.config/Google/DriveFS/Logs/dpb.txt /root/.config/Google/Driv\n",
            "1 S root          31       1  0  80   0 -  9802 wait   02:35 ?        00:00:00 /bin/bash -e /datalab/run.sh\n",
            "4 S root          32      31  0  80   0 - 179957 futex_ 02:35 ?       00:00:00 /usr/colab/bin/kernel_manager_proxy --listen_port=6000 --target_port=9000\n",
            "4 Z root          44       7  0  80   0 -     0 -      02:35 ?        00:00:06 [python3] <defunct>\n",
            "4 S root          45       7  0  80   0 - 40377 epoll_ 02:35 ?        00:00:00 python3 /usr/local/bin/colab-fileshim.py\n",
            "4 S root          60       7  0  80   0 - 49864 epoll_ 02:35 ?        00:00:03 /usr/bin/python3 /usr/local/bin/jupyter-notebook --ip=172.28.0.2 --port=9000 --Fi\n",
            "4 S root          61       7  0  80   0 - 178952 futex_ 02:35 ?       00:00:00 /usr/local/bin/dap_multiplexer --domain_socket_path=/tmp/debugger_uf5jc16j5\n",
            "4 S root          75      60  0  80   0 - 157919 select 02:38 ?       00:00:10 /usr/bin/python3 -m ipykernel_launcher -f /root/.local/share/jupyter/runtime/kern\n",
            "1 S root          93       1  0  80   0 - 31863 futex_ 02:38 ?        00:00:01 /usr/bin/python3 /usr/local/lib/python3.7/dist-packages/debugpy/adapter --for-ser\n",
            "4 S root         382       7  3  80   0 - 151057 epoll_ 02:52 ?       00:00:12 node /datalab/web/pyright/pyright-langserver.js --stdio --cancellationReceive=fil\n",
            "4 S root         423      75  0  80   0 - 20193 wait   02:54 ?        00:00:00 su - engbjapan -c jupyter notebook --ip=127.0.0.1 --port=18888 --NotebookApp.allo\n",
            "4 S engbjap+     424     423  0  80   0 -  1160 wait   02:54 ?        00:00:00 -su -c jupyter notebook --ip=127.0.0.1 --port=18888 --NotebookApp.allow_origin=ht\n",
            "4 S engbjap+     427     424  0  80   0 - 42700 epoll_ 02:54 ?        00:00:00 /usr/bin/python3 /usr/local/bin/jupyter-notebook --ip=127.0.0.1 --port=18888 --No\n",
            "4 R root         493      75  0  80   0 - 14761 -      02:58 ?        00:00:00 ps -Afl\n"
          ]
        }
      ]
    },
    {
      "cell_type": "markdown",
      "source": [
        "# うん？一応　notebook list出たね"
      ],
      "metadata": {
        "id": "tiLy00O4vSPR"
      }
    },
    {
      "cell_type": "code",
      "source": [
        "!su - engbjapan -c 'jupyter notebook list'"
      ],
      "metadata": {
        "colab": {
          "base_uri": "https://localhost:8080/"
        },
        "id": "0PN5FGkWcJSU",
        "outputId": "7328b41b-077b-473c-9a01-273826a075ae"
      },
      "execution_count": 33,
      "outputs": [
        {
          "output_type": "stream",
          "name": "stdout",
          "text": [
            "Currently running servers:\n",
            "http://127.0.0.1:18888/?token=engbjapan :: /home/engbjapan\n"
          ]
        }
      ]
    },
    {
      "cell_type": "markdown",
      "source": [
        "## このtoken付URLをLocalランタイムのURLに入れても「接続」ボタンが出なかった"
      ],
      "metadata": {
        "id": "wlFhMogG18dr"
      }
    },
    {
      "cell_type": "markdown",
      "source": [
        "## 改行"
      ],
      "metadata": {
        "id": "wBFTcMGZ9XTM"
      }
    },
    {
      "cell_type": "code",
      "source": [
        "!su engbjapan -c \\\n",
        "  \"cd /home/engbjapan/;\\\n",
        "  id;\\\n",
        "  pwd;\\\n",
        "  ls -la\"\n",
        "#!ls -la /home/engbjapan/"
      ],
      "metadata": {
        "colab": {
          "base_uri": "https://localhost:8080/"
        },
        "id": "Xp8HO5WM9Wnk",
        "outputId": "129c7da6-b957-48ef-833a-88b2e71514c2"
      },
      "execution_count": null,
      "outputs": [
        {
          "output_type": "stream",
          "name": "stdout",
          "text": [
            "uid=1000(engbjapan) gid=1000(engbjapan) groups=1000(engbjapan),0(root)\n",
            "/home/engbjapan\n",
            "total 20\n",
            "drwxr-xr-x 2 engbjapan engbjapan 4096 Nov 15 20:20 .\n",
            "drwxr-xr-x 1 root      root      4096 Nov 15 20:20 ..\n",
            "-rw-r--r-- 1 engbjapan engbjapan  220 Apr  4  2018 .bash_logout\n",
            "-rw-r--r-- 1 engbjapan engbjapan 3771 Apr  4  2018 .bashrc\n",
            "-rw-r--r-- 1 engbjapan engbjapan  807 Apr  4  2018 .profile\n"
          ]
        }
      ]
    },
    {
      "cell_type": "markdown",
      "source": [
        "# エクステンションしてみる\n",
        "\n",
        "```\n",
        "以下のサイトだよ\n",
        "https://research.google.com/colaboratory/local-runtimes.html\n",
        "\n",
        "そのProxy拡張もオーブンで上のリンクに書いてある。\n",
        "覗けば、webSocket系のリレーションproxyできる！！\n",
        "\n",
        "Colab内部:\n",
        " 上記extensionをpip：pip install jupyter_http_over_ws\n",
        " extension有効化ユーザで：\n",
        " su - {ユーザ} -c ”jupyter serverextension enable --py jupyter_http_over_ws”\n",
        " ユーザでjupyter起動:\n",
        " su - {ユーザ} -c \\\n",
        "  “jupyter notebook \n",
        "  --NotebookApp.allow_origin='https://colab.research.google.com' \\\n",
        "  --port=8888 \\ ←これはportPickerので行くか\n",
        "  --NotebookApp.port_retries=0”\n",
        "\n",
        "　⇒これで出るアクセスURLを確認\n",
        "\n",
        "Colabフロント：\n",
        "　ローカルランタイム接続で、アクセスURL、を入れてランタイム変更\n",
        "```"
      ],
      "metadata": {
        "id": "A381RHkx-wdm"
      }
    },
    {
      "cell_type": "markdown",
      "source": [
        "## 元メモ\n",
        "\n",
        "https://docs.google.com/document/d/1QGFx4iXs6lhaZYiHTkyE0HYSLkqPj-fZpRLOONoImYE/edit?usp=sharing\n"
      ],
      "metadata": {
        "id": "jsCvyAurPAGF"
      }
    },
    {
      "cell_type": "code",
      "source": [
        "!pip install jupyter_http_over_ws"
      ],
      "metadata": {
        "id": "WVy-QNqr_E68"
      },
      "execution_count": null,
      "outputs": []
    },
    {
      "cell_type": "code",
      "source": [
        "!apt install net-tools -qq"
      ],
      "metadata": {
        "id": "RF1z1vrK_-_j",
        "colab": {
          "base_uri": "https://localhost:8080/"
        },
        "outputId": "4d9c89d2-e946-4eeb-ab9c-15b675710637"
      },
      "execution_count": 63,
      "outputs": [
        {
          "output_type": "stream",
          "name": "stdout",
          "text": [
            "The following package was automatically installed and is no longer required:\n",
            "  libnvidia-common-460\n",
            "Use 'apt autoremove' to remove it.\n",
            "The following NEW packages will be installed:\n",
            "  net-tools\n",
            "0 upgraded, 1 newly installed, 0 to remove and 5 not upgraded.\n",
            "Need to get 194 kB of archives.\n",
            "After this operation, 803 kB of additional disk space will be used.\n",
            "Selecting previously unselected package net-tools.\n",
            "(Reading database ... 123991 files and directories currently installed.)\n",
            "Preparing to unpack .../net-tools_1.60+git20161116.90da8a0-1ubuntu1_amd64.deb ...\n",
            "Unpacking net-tools (1.60+git20161116.90da8a0-1ubuntu1) ...\n",
            "Setting up net-tools (1.60+git20161116.90da8a0-1ubuntu1) ...\n",
            "Processing triggers for man-db (2.8.3-2ubuntu0.1) ...\n"
          ]
        }
      ]
    },
    {
      "cell_type": "code",
      "source": [
        "!netstat -nap|grep LISTEN"
      ],
      "metadata": {
        "colab": {
          "base_uri": "https://localhost:8080/"
        },
        "id": "LaCZ7kIrAKP5",
        "outputId": "7ee4935c-3060-4324-880d-eab05bca6b14"
      },
      "execution_count": 32,
      "outputs": [
        {
          "output_type": "stream",
          "name": "stdout",
          "text": [
            "/bin/bash: netstat: command not found\n"
          ]
        }
      ]
    },
    {
      "cell_type": "code",
      "source": [
        "!kill -9 1236"
      ],
      "metadata": {
        "id": "8ngzfYcWK23J"
      },
      "execution_count": null,
      "outputs": []
    },
    {
      "cell_type": "code",
      "source": [
        "!su - engbjapan -c \"jupyter  serverextension enable --py jupyter_http_over_ws\""
      ],
      "metadata": {
        "colab": {
          "base_uri": "https://localhost:8080/"
        },
        "id": "pm_BDI9O_sAF",
        "outputId": "78bd4b24-07cf-4be2-8d2e-6322e4e1e2a0"
      },
      "execution_count": null,
      "outputs": [
        {
          "output_type": "stream",
          "name": "stdout",
          "text": [
            "Enabling: jupyter_http_over_ws\n",
            "- Writing config: /home/engbjapan/.jupyter\n",
            "    - Validating...\n",
            "      jupyter_http_over_ws 0.0.7 \u001b[32mOK\u001b[0m\n"
          ]
        }
      ]
    },
    {
      "cell_type": "code",
      "source": [
        "import portpicker\n",
        "portpicker.pick_unused_port()"
      ],
      "metadata": {
        "colab": {
          "base_uri": "https://localhost:8080/"
        },
        "id": "v3_LT_5LE2cT",
        "outputId": "b82ef129-d27b-4423-a252-b7f50b337a47"
      },
      "execution_count": null,
      "outputs": [
        {
          "output_type": "execute_result",
          "data": {
            "text/plain": [
              "23415"
            ]
          },
          "metadata": {},
          "execution_count": 25
        }
      ]
    },
    {
      "cell_type": "markdown",
      "source": [
        "## なんじゃこりゃ！！\n",
        "\n",
        "```\n",
        "バックエンドから .last_opt_in_prompt.yaml を取得できませんでした\n",
        "Could not fetch resource at https://colab.research.google.com/tun/m/m-s-1kdrpsd5vooiu/files/content/.config/.last_opt_in_prompt.yaml?authuser=0: 500  \n",
        "FetchError: Could not fetch resource at https://colab.research.google.com/tun/m/m-s-1kdrpsd5vooiu/files/content/.config/.last_opt_in_prompt.yaml?authuser=0: 500  \n",
        "    at dC.fB [as constructor] (https://colab.research.google.com/v2/external/external_polymer_binary_l10n__ja.js?vrz=colab-20221117-060045-RC00_489179157:1405:2551)\n",
        "    at new dC (https://colab.research.google.com/v2/external/external_polymer_binary_l10n__ja.js?vrz=colab-20221117-060045-RC00_489179157:1437:451)\n",
        "    at wa.program_ (https://colab.research.google.com/v2/external/external_polymer_binary_l10n__ja.js?vrz=colab-20221117-060045-RC00_489179157:6458:358)\n",
        "    at ya (https://colab.research.google.com/v2/external/external_polymer_binary_l10n__ja.js?vrz=colab-20221117-060045-RC00_489179157:20:336)\n",
        "    at wa.next_ (https://colab.research.google.com/v2/external/external_polymer_binary_l10n__ja.js?vrz=colab-20221117-060045-RC00_489179157:18:479)\n",
        "    at za.next (https://colab.research.google.com/v2/external/external_polymer_binary_l10n__ja.js?vrz=colab-20221117-060045-RC00_489179157:21:206)\n",
        "    at b (https://colab.research.google.com/v2/external/external_polymer_binary_l10n__ja.js?vrz=colab-20221117-060045-RC00_489179157:21:468)\n",
        "```\n",
        "\n",
        "ならこれで行けんのか？\n",
        "\n",
        "```\n",
        "https://colab.research.google.com/tun/m/m-s-1kdrpsd5vooiu/files/content/ps.txt?authuser=0\n",
        "```"
      ],
      "metadata": {
        "id": "CYkPIdjzQq0V"
      }
    },
    {
      "cell_type": "markdown",
      "source": [
        "# --ip 指定で動作したが、token情報が出ない\n",
        "\n",
        "\n",
        "```\n",
        "|WARNING|Notebook version 5 is no longer maintained. Please upgrade to version 6 or later.\n",
        "***Debug***\n",
        "        sockaddr('127.0.0.1', 8888)\n",
        "|DEBUG|Paths used for configuration of jupyter_notebook_config: \n",
        "    \t/etc/jupyter/jupyter_notebook_config.json\n",
        "|DEBUG|Paths used for configuration of jupyter_notebook_config: \n",
        "    \t/usr/local/etc/jupyter/jupyter_notebook_config.d/panel-client-jupyter.json\n",
        "    \t/usr/local/etc/jupyter/jupyter_notebook_config.json\n",
        "|DEBUG|Paths used for configuration of jupyter_notebook_config: \n",
        "    \t/usr/etc/jupyter/jupyter_notebook_config.json\n",
        "|DEBUG|Paths used for configuration of jupyter_notebook_config: \n",
        "    \t/home/engbjapan/.local/etc/jupyter/jupyter_notebook_config.json\n",
        "|DEBUG|Paths used for configuration of jupyter_notebook_config: \n",
        "    \t/home/engbjapan/.jupyter/jupyter_notebook_config.json\n",
        "|INFO|google.colab serverextension initialized.\n",
        "jupyter_http_over_ws extension initialized. Listening on /http_over_websocket\n",
        "|INFO|Serving notebooks from local directory: /\n",
        "|INFO|The Jupyter Notebook is running at:\n",
        "|INFO|http://127.0.0.1:8888/\n",
        "|INFO|Use Control-C to stop this server and shut down all kernels (twice to skip confirmation).\n",
        "\n",
        "Session terminated, terminating shell...|INFO|interrupted\n",
        "Serving notebooks from local directory: /\n",
        "0 active kernels\n",
        "The Jupyter Notebook is running at:\n",
        "http://127.0.0.1:8888/\n",
        "Shutdown this notebook server (y/[n])? y\n",
        "|CRITICAL|Shutdown confirmed\n",
        "|INFO|Shutting down 0 kernels\n",
        " ...waiting for child to terminate.\n",
        " ```"
      ],
      "metadata": {
        "id": "21aDyMygONNT"
      }
    },
    {
      "cell_type": "code",
      "source": [
        "#!su - engbjapan -c \\\n",
        "!su - engbjapan -c \"jupyter notebook \\\n",
        "  --ip=127.0.0.1\\\n",
        "  --port=8888 --FileContentsManager.root_dir=/ --MappingKernelManager.root_dir=/home/engbjapan/ \\\n",
        "  --NotebookApp.allow_origin='https://colab.research.google.com' \\\n",
        "  --NotebookApp.port_retries=0\" &"
      ],
      "metadata": {
        "colab": {
          "base_uri": "https://localhost:8080/"
        },
        "id": "qEPeAbq5Aicd",
        "outputId": "5a0cb557-2a99-41c8-912b-6165dd4ae31c"
      },
      "execution_count": null,
      "outputs": [
        {
          "output_type": "stream",
          "name": "stdout",
          "text": [
            "|WARNING|Notebook version 5 is no longer maintained. Please upgrade to version 6 or later.\n",
            "|INFO|Writing notebook server cookie secret to /home/engbjapan/.local/share/jupyter/runtime/notebook_cookie_secret\n",
            "|DEBUG|Paths used for configuration of jupyter_notebook_config: \n",
            "    \t/etc/jupyter/jupyter_notebook_config.json\n",
            "|DEBUG|Paths used for configuration of jupyter_notebook_config: \n",
            "    \t/usr/local/etc/jupyter/jupyter_notebook_config.d/panel-client-jupyter.json\n",
            "    \t/usr/local/etc/jupyter/jupyter_notebook_config.json\n",
            "|DEBUG|Paths used for configuration of jupyter_notebook_config: \n",
            "    \t/usr/etc/jupyter/jupyter_notebook_config.json\n",
            "|DEBUG|Paths used for configuration of jupyter_notebook_config: \n",
            "    \t/home/engbjapan/.local/etc/jupyter/jupyter_notebook_config.json\n",
            "|DEBUG|Paths used for configuration of jupyter_notebook_config: \n",
            "    \t/home/engbjapan/.jupyter/jupyter_notebook_config.json\n",
            "|INFO|google.colab serverextension initialized.\n",
            "jupyter_http_over_ws extension initialized. Listening on /http_over_websocket\n",
            "|INFO|Serving notebooks from local directory: /\n",
            "|INFO|The Jupyter Notebook is running at:\n",
            "|INFO|http://127.0.0.1:8888/\n",
            "|INFO|Use Control-C to stop this server and shut down all kernels (twice to skip confirmation).\n",
            "\n",
            "Session terminated, terminating shell...|INFO|Interrupted...\n",
            "|INFO|Shutting down 0 kernels\n",
            " ...terminated.\n"
          ]
        }
      ]
    },
    {
      "cell_type": "markdown",
      "source": [
        "# 221119の治験\n"
      ],
      "metadata": {
        "id": "ITeI2DPyjx80"
      }
    },
    {
      "cell_type": "markdown",
      "source": [
        "https://docs.python.org/ja/3.7/library/subprocess.html#subprocess.Popen.communicate\n",
        "\n",
        "```\n",
        "proc = subprocess.Popen(...)\n",
        "try:\n",
        "    outs, errs = proc.communicate(timeout=15)\n",
        "except TimeoutExpired:\n",
        "    proc.kill()\n",
        "    outs, errs = proc.communicate()\n",
        "```"
      ],
      "metadata": {
        "id": "kLGT1yL4Xowx"
      }
    },
    {
      "cell_type": "code",
      "source": [
        "!jupyter console"
      ],
      "metadata": {
        "id": "TUbyotJ2j7Hl"
      },
      "execution_count": null,
      "outputs": []
    },
    {
      "cell_type": "code",
      "source": [
        "fd=open(\"testfile\",\"a\")\n",
        "fd.fileno()"
      ],
      "metadata": {
        "colab": {
          "base_uri": "https://localhost:8080/"
        },
        "id": "1RVCBQTYo0wz",
        "outputId": "7e64296b-5497-446f-9379-040167f5326c"
      },
      "execution_count": 60,
      "outputs": [
        {
          "output_type": "execute_result",
          "data": {
            "text/plain": [
              "53"
            ]
          },
          "metadata": {},
          "execution_count": 60
        }
      ]
    },
    {
      "cell_type": "code",
      "source": [
        "!netstat -nap|grep LISTEN"
      ],
      "metadata": {
        "colab": {
          "base_uri": "https://localhost:8080/"
        },
        "id": "mavgB0g-pTrn",
        "outputId": "54941f59-e6b5-44d3-bacc-3dbb1c65aee7"
      },
      "execution_count": 100,
      "outputs": [
        {
          "output_type": "stream",
          "name": "stdout",
          "text": [
            "tcp        0      0 127.0.0.1:20624         0.0.0.0:*               LISTEN      95/python3          \n",
            "tcp        0      0 127.0.0.1:6000          0.0.0.0:*               LISTEN      35/kernel_manager_p \n",
            "tcp        0      0 127.0.0.1:41527         0.0.0.0:*               LISTEN      74/python3          \n",
            "tcp        0      0 127.0.0.1:37113         0.0.0.0:*               LISTEN      95/python3          \n",
            "tcp        0      0 127.0.0.1:36283         0.0.0.0:*               LISTEN      95/python3          \n",
            "tcp        0      0 127.0.0.1:40571         0.0.0.0:*               LISTEN      74/python3          \n",
            "tcp        0      0 127.0.0.1:50747         0.0.0.0:*               LISTEN      74/python3          \n",
            "tcp        0      0 0.0.0.0:3453            0.0.0.0:*               LISTEN      47/python3          \n",
            "tcp        0      0 127.0.0.1:45407         0.0.0.0:*               LISTEN      74/python3          \n",
            "tcp        0      0 127.0.0.1:35167         0.0.0.0:*               LISTEN      74/python3          \n",
            "tcp        0      0 127.0.0.11:46657        0.0.0.0:*               LISTEN      -                   \n",
            "tcp        0      0 127.0.0.1:58503         0.0.0.0:*               LISTEN      74/python3          \n",
            "tcp        0      0 127.0.0.1:18888         0.0.0.0:*               LISTEN      1929/python3        \n",
            "tcp        0      0 172.28.0.2:9000         0.0.0.0:*               LISTEN      62/python3          \n",
            "tcp6       0      0 :::8080                 :::*                    LISTEN      7/node              \n",
            "tcp6       0      0 :::3453                 :::*                    LISTEN      47/python3          \n",
            "unix  2      [ ACC ]     STREAM     LISTENING     19516    63/dap_multiplexer   /tmp/debugger_2apm1u7o1z\n"
          ]
        }
      ]
    },
    {
      "cell_type": "markdown",
      "source": [
        "だめか・・・"
      ],
      "metadata": {
        "id": "OL0Oqr5vsMqc"
      }
    },
    {
      "cell_type": "code",
      "source": [
        "from google.colab import output\n",
        "output.serve_kernel_port_as_iframe(6000,\"/\")"
      ],
      "metadata": {
        "colab": {
          "base_uri": "https://localhost:8080/",
          "height": 422
        },
        "id": "pcuLoedmrI-z",
        "outputId": "91dcfca7-025c-427e-a190-757d3ad52548"
      },
      "execution_count": 97,
      "outputs": [
        {
          "output_type": "display_data",
          "data": {
            "text/plain": [
              "<IPython.core.display.Javascript object>"
            ],
            "application/javascript": [
              "(async (port, path, width, height, cache, element) => {\n",
              "    if (!google.colab.kernel.accessAllowed && !cache) {\n",
              "      return;\n",
              "    }\n",
              "    element.appendChild(document.createTextNode(''));\n",
              "    const url = await google.colab.kernel.proxyPort(port, {cache});\n",
              "    const iframe = document.createElement('iframe');\n",
              "    iframe.src = new URL(path, url).toString();\n",
              "    iframe.height = height;\n",
              "    iframe.width = width;\n",
              "    iframe.style.border = 0;\n",
              "    iframe.allow = [\n",
              "        'accelerometer',\n",
              "        'autoplay',\n",
              "        'camera',\n",
              "        'clipboard-read',\n",
              "        'clipboard-write',\n",
              "        'gyroscope',\n",
              "        'magnetometer',\n",
              "        'microphone',\n",
              "        'serial',\n",
              "        'usb',\n",
              "        'xr-spatial-tracking',\n",
              "    ].join('; ');\n",
              "    element.appendChild(iframe);\n",
              "  })(6000, \"/\", \"100%\", \"400\", false, window.element)"
            ]
          },
          "metadata": {}
        }
      ]
    },
    {
      "cell_type": "code",
      "source": [
        "!jupyter kernelspec list"
      ],
      "metadata": {
        "colab": {
          "base_uri": "https://localhost:8080/"
        },
        "id": "9TcFJFcnrhSk",
        "outputId": "2f5d6055-b9f9-4adc-fb76-874f3935a107"
      },
      "execution_count": 79,
      "outputs": [
        {
          "output_type": "stream",
          "name": "stdout",
          "text": [
            "Available kernels:\n",
            "  bash       /usr/local/share/jupyter/kernels/bash\n",
            "  ir         /usr/local/share/jupyter/kernels/ir\n",
            "  python3    /usr/local/share/jupyter/kernels/python3\n"
          ]
        }
      ]
    },
    {
      "cell_type": "code",
      "source": [
        "!pip install bash_kernel"
      ],
      "metadata": {
        "id": "stjui8EwmXv-"
      },
      "execution_count": null,
      "outputs": []
    },
    {
      "cell_type": "code",
      "source": [
        "!python -m bash_kernel.install"
      ],
      "metadata": {
        "colab": {
          "base_uri": "https://localhost:8080/"
        },
        "id": "TTNzOXMVmVj9",
        "outputId": "6318e50b-c556-42b9-977a-431b0512a385"
      },
      "execution_count": 48,
      "outputs": [
        {
          "output_type": "stream",
          "name": "stdout",
          "text": [
            "Installing IPython kernel spec\n"
          ]
        }
      ]
    },
    {
      "cell_type": "code",
      "source": [
        "!jupyter console --kernel bash"
      ],
      "metadata": {
        "id": "aD-dKfBvmPuw"
      },
      "execution_count": null,
      "outputs": []
    },
    {
      "cell_type": "code",
      "source": [
        "import sys\n",
        "while 1:\n",
        "  inl=input(\">>\")\n",
        "  if inl==\":q\":\n",
        "    break\n",
        "  sys.stdout.write(f\"line:{inl}\")\n",
        "  "
      ],
      "metadata": {
        "colab": {
          "base_uri": "https://localhost:8080/",
          "height": 454
        },
        "id": "sUf9_coRWTe0",
        "outputId": "7363492e-013d-4706-ccd3-fba80699d630"
      },
      "execution_count": null,
      "outputs": [
        {
          "output_type": "stream",
          "name": "stdout",
          "text": [
            ">>aaaaa\n",
            "line:aaaaa>>gfggg\n",
            "line:gfggg"
          ]
        },
        {
          "output_type": "error",
          "ename": "KeyboardInterrupt",
          "evalue": "ignored",
          "traceback": [
            "\u001b[0;31m---------------------------------------------------------------------------\u001b[0m",
            "\u001b[0;31mKeyboardInterrupt\u001b[0m                         Traceback (most recent call last)",
            "\u001b[0;32m<ipython-input-15-dc668eb21daf>\u001b[0m in \u001b[0;36m<module>\u001b[0;34m\u001b[0m\n\u001b[1;32m      1\u001b[0m \u001b[0;32mimport\u001b[0m \u001b[0msys\u001b[0m\u001b[0;34m\u001b[0m\u001b[0;34m\u001b[0m\u001b[0m\n\u001b[1;32m      2\u001b[0m \u001b[0;32mwhile\u001b[0m \u001b[0;36m1\u001b[0m\u001b[0;34m:\u001b[0m\u001b[0;34m\u001b[0m\u001b[0;34m\u001b[0m\u001b[0m\n\u001b[0;32m----> 3\u001b[0;31m   \u001b[0minl\u001b[0m\u001b[0;34m=\u001b[0m\u001b[0minput\u001b[0m\u001b[0;34m(\u001b[0m\u001b[0;34m\">>\"\u001b[0m\u001b[0;34m)\u001b[0m\u001b[0;34m\u001b[0m\u001b[0;34m\u001b[0m\u001b[0m\n\u001b[0m\u001b[1;32m      4\u001b[0m   \u001b[0;32mif\u001b[0m \u001b[0minl\u001b[0m\u001b[0;34m==\u001b[0m\u001b[0;34m\":q\"\u001b[0m\u001b[0;34m:\u001b[0m\u001b[0;34m\u001b[0m\u001b[0;34m\u001b[0m\u001b[0m\n\u001b[1;32m      5\u001b[0m     \u001b[0;32mbreak\u001b[0m\u001b[0;34m\u001b[0m\u001b[0;34m\u001b[0m\u001b[0m\n",
            "\u001b[0;32m/usr/local/lib/python3.7/dist-packages/ipykernel/kernelbase.py\u001b[0m in \u001b[0;36mraw_input\u001b[0;34m(self, prompt)\u001b[0m\n\u001b[1;32m    861\u001b[0m             \u001b[0mself\u001b[0m\u001b[0;34m.\u001b[0m\u001b[0m_parent_ident\u001b[0m\u001b[0;34m,\u001b[0m\u001b[0;34m\u001b[0m\u001b[0;34m\u001b[0m\u001b[0m\n\u001b[1;32m    862\u001b[0m             \u001b[0mself\u001b[0m\u001b[0;34m.\u001b[0m\u001b[0m_parent_header\u001b[0m\u001b[0;34m,\u001b[0m\u001b[0;34m\u001b[0m\u001b[0;34m\u001b[0m\u001b[0m\n\u001b[0;32m--> 863\u001b[0;31m             \u001b[0mpassword\u001b[0m\u001b[0;34m=\u001b[0m\u001b[0;32mFalse\u001b[0m\u001b[0;34m,\u001b[0m\u001b[0;34m\u001b[0m\u001b[0;34m\u001b[0m\u001b[0m\n\u001b[0m\u001b[1;32m    864\u001b[0m         )\n\u001b[1;32m    865\u001b[0m \u001b[0;34m\u001b[0m\u001b[0m\n",
            "\u001b[0;32m/usr/local/lib/python3.7/dist-packages/ipykernel/kernelbase.py\u001b[0m in \u001b[0;36m_input_request\u001b[0;34m(self, prompt, ident, parent, password)\u001b[0m\n\u001b[1;32m    902\u001b[0m             \u001b[0;32mexcept\u001b[0m \u001b[0mKeyboardInterrupt\u001b[0m\u001b[0;34m:\u001b[0m\u001b[0;34m\u001b[0m\u001b[0;34m\u001b[0m\u001b[0m\n\u001b[1;32m    903\u001b[0m                 \u001b[0;31m# re-raise KeyboardInterrupt, to truncate traceback\u001b[0m\u001b[0;34m\u001b[0m\u001b[0;34m\u001b[0m\u001b[0;34m\u001b[0m\u001b[0m\n\u001b[0;32m--> 904\u001b[0;31m                 \u001b[0;32mraise\u001b[0m \u001b[0mKeyboardInterrupt\u001b[0m\u001b[0;34m(\u001b[0m\u001b[0;34m\"Interrupted by user\"\u001b[0m\u001b[0;34m)\u001b[0m \u001b[0;32mfrom\u001b[0m \u001b[0;32mNone\u001b[0m\u001b[0;34m\u001b[0m\u001b[0;34m\u001b[0m\u001b[0m\n\u001b[0m\u001b[1;32m    905\u001b[0m             \u001b[0;32mexcept\u001b[0m \u001b[0mException\u001b[0m \u001b[0;32mas\u001b[0m \u001b[0me\u001b[0m\u001b[0;34m:\u001b[0m\u001b[0;34m\u001b[0m\u001b[0;34m\u001b[0m\u001b[0m\n\u001b[1;32m    906\u001b[0m                 \u001b[0mself\u001b[0m\u001b[0;34m.\u001b[0m\u001b[0mlog\u001b[0m\u001b[0;34m.\u001b[0m\u001b[0mwarning\u001b[0m\u001b[0;34m(\u001b[0m\u001b[0;34m\"Invalid Message:\"\u001b[0m\u001b[0;34m,\u001b[0m \u001b[0mexc_info\u001b[0m\u001b[0;34m=\u001b[0m\u001b[0;32mTrue\u001b[0m\u001b[0;34m)\u001b[0m\u001b[0;34m\u001b[0m\u001b[0;34m\u001b[0m\u001b[0m\n",
            "\u001b[0;31mKeyboardInterrupt\u001b[0m: Interrupted by user"
          ]
        }
      ]
    },
    {
      "cell_type": "markdown",
      "source": [
        "subprocessで、上記起動\n",
        "\n",
        "stdout/errをopenファイルに。\n",
        "\n",
        "pidもその時出力か、\n",
        "戻りのインスタンスで停止する。\n",
        "```\n",
        "!su - engbjapan -c \"jupyter notebook \\\n",
        "  --ip=127.0.0.1\\\n",
        "  --port=8888 --FileContentsManager.root_dir=/ --MappingKernelManager.root_dir=/home/engbjapan/ \\\n",
        "  --NotebookApp.allow_origin='https://colab.research.google.com' \\\n",
        "  --NotebookApp.port_retries=0\" &\n",
        "```"
      ],
      "metadata": {
        "id": "XrD4unK_g7fm"
      }
    },
    {
      "cell_type": "code",
      "source": [
        "class engbshell():\n",
        "  def __init__(self,user:str=\"root\",input=None,output=None):\n",
        "    import subprocess ,shlex,os,sys \n",
        "    s=self;s.user=user;s.sp=subprocess;s.she=shlex;s.Popen=s.sp.Popen\n",
        "    self.input=input;self.output=output\n",
        "  def shell(self,cmds:str):\n",
        "    s=self\n",
        "    s.spop = s.Popen(\n",
        "        s.she.split(cmds.replace('\\n',' '))\n",
        "        \n",
        "        )\n"
      ],
      "metadata": {
        "id": "z82lM7P8rR1W"
      },
      "execution_count": null,
      "outputs": []
    },
    {
      "cell_type": "code",
      "source": [
        "!ps -Afl > ps.txt\n",
        "!cat ps.txt"
      ],
      "metadata": {
        "colab": {
          "base_uri": "https://localhost:8080/"
        },
        "id": "cPJbbknyNaxW",
        "outputId": "90dcc596-21b2-49a0-b7de-f4a248c99c47"
      },
      "execution_count": null,
      "outputs": [
        {
          "output_type": "stream",
          "name": "stdout",
          "text": [
            "F S UID          PID    PPID  C PRI  NI ADDR SZ WCHAN  STIME TTY          TIME CMD\n",
            "4 S root           1       0  1  80   0 -   252 sigtim 00:06 ?        00:00:00 /sbin/docker-init -- /datalab/run.sh\n",
            "4 S root           7       1  1  80   0 - 84443 epoll_ 00:06 ?        00:00:00 /tools/node/bin/node /datalab/web/app.js\n",
            "4 S root          19       0  1  80   0 -  8975 se_sys 00:06 ?        00:00:00 tail -n +0 -F /root/.config/Google/DriveFS/Logs/dpb.txt /root/.config/Google/DriveFS/Logs/drive_fs.txt\n",
            "1 S root          33       1  0  80   0 -  9801 wait   00:06 ?        00:00:00 /bin/bash -e /datalab/run.sh\n",
            "4 S root          35      33  0  80   0 - 179541 futex_ 00:06 ?       00:00:00 /usr/colab/bin/kernel_manager_proxy --listen_port=6000 --target_port=9000\n",
            "4 Z root          46       7 17  80   0 -     0 -      00:06 ?        00:00:05 [python3] <defunct>\n",
            "4 S root          47       7  1  80   0 - 40376 epoll_ 00:06 ?        00:00:00 python3 /usr/local/bin/colab-fileshim.py\n",
            "4 S root          62       7  3  80   0 - 49545 epoll_ 00:06 ?        00:00:01 /usr/bin/python3 /usr/local/bin/jupyter-notebook --ip=172.28.0.2 --port=9000 --FileContentsManager.root_dir=/ --MappingKernelManager.root_dir=/content\n",
            "4 S root          63       7  0  80   0 - 178600 futex_ 00:06 ?       00:00:00 /usr/local/bin/dap_multiplexer --domain_socket_path=/tmp/debugger_2apm1u7o1z\n",
            "4 S root          74      62  6  80   0 - 120264 select 00:06 ?       00:00:01 /usr/bin/python3 -m ipykernel_launcher -f /root/.local/share/jupyter/runtime/kernel-3d4f8a8e-37f9-4ed6-90f7-0ddef8fcf7bf.json\n",
            "1 S root          95       1  0  80   0 - 31734 futex_ 00:06 ?        00:00:00 /usr/bin/python3 /usr/local/lib/python3.7/dist-packages/debugpy/adapter --for-server 36751 --host 127.0.0.1 --port 20624 --server-access-token 6a9be96935de88ad4b1ebee110ee4f45cefc72361b4580596c7e00913f4d05bd\n",
            "4 S root         112       7 20  80   0 - 129869 epoll_ 00:06 ?       00:00:03 node /datalab/web/pyright/pyright-langserver.js --stdio --cancellationReceive=file:3ff7fafae305b67c85213b2148e81485b62c424012\n",
            "4 S root         128      74  0  80   0 -  9801 wait   00:06 ?        00:00:00 /bin/bash -c ps -Afl > ps.txt\n",
            "4 R root         129     128  0  80   0 - 14762 -      00:06 ?        00:00:00 ps -Afl\n"
          ]
        }
      ]
    },
    {
      "cell_type": "code",
      "source": [
        "!cat /root/.local/share/jupyter/runtime/kernel-3d4f8a8e-37f9-4ed6-90f7-0ddef8fcf7bf.json"
      ],
      "metadata": {
        "colab": {
          "base_uri": "https://localhost:8080/"
        },
        "id": "eyKt7WpjNqtL",
        "outputId": "507da71f-702c-462c-ddd9-218ca1d36e75"
      },
      "execution_count": null,
      "outputs": [
        {
          "output_type": "stream",
          "name": "stdout",
          "text": [
            "{\n",
            "  \"shell_port\": 35167,\n",
            "  \"iopub_port\": 58503,\n",
            "  \"stdin_port\": 41527,\n",
            "  \"control_port\": 50747,\n",
            "  \"hb_port\": 45407,\n",
            "  \"ip\": \"127.0.0.1\",\n",
            "  \"key\": \"\",\n",
            "  \"transport\": \"tcp\",\n",
            "  \"signature_scheme\": \"hmac-sha256\",\n",
            "  \"kernel_name\": \"\"\n",
            "}"
          ]
        }
      ]
    },
    {
      "cell_type": "markdown",
      "source": [
        "# ps\n",
        "```\n",
        "!ps -Afl > ps.txt\n",
        "!cat ps.txt\n",
        "```\n",
        "```\n",
        "F S UID          PID    PPID  C PRI  NI ADDR SZ WCHAN  STIME TTY          TIME CMD\n",
        "4 S root           1       0  0  80   0 -   252 sigtim 01:50 ?        00:00:00 /sbin/docker-init -- /datalab/run.sh\n",
        "4 S root           6       1  0  80   0 - 84315 epoll_ 01:50 ?        00:00:00 /tools/node/bin/node /datalab/web/app.js\n",
        "4 S root          17       0  0  80   0 -  8974 se_sys 01:50 ?        00:00:00 tail -n +0 -F /root/.config/Google/DriveFS/Logs/dpb.txt /root/.config/Google/DriveFS/Logs/drive_fs.txt\n",
        "1 S root          31       1  0  80   0 -  9801 wait   01:50 ?        00:00:00 /bin/bash -e /datalab/run.sh\n",
        "4 S root          32      31  0  80   0 - 179953 epoll_ 01:50 ?       00:00:00 /usr/colab/bin/kernel_manager_proxy --listen_port=6000 --target_port=9000\n",
        "4 Z root          44       6  5  80   0 -     0 -      01:50 ?        00:00:05 [python3] <defunct>\n",
        "4 S root          45       6  0  80   0 - 40377 epoll_ 01:50 ?        00:00:00 python3 /usr/local/bin/colab-fileshim.py\n",
        "4 S root          60       6  1  80   0 - 49545 epoll_ 01:50 ?        00:00:01 /usr/bin/python3 /usr/local/bin/jupyter-notebook --ip=172.28.0.2 --port=9000 --FileContentsManager.root_dir=/ --MappingKernelManager.root_dir=/content\n",
        "4 S root          61       6  0  80   0 - 178533 futex_ 01:50 ?       00:00:00 /usr/local/bin/dap_multiplexer --domain_socket_path=/tmp/debugger_nxw55y8j\n",
        "4 S root          74      60 13  80   0 - 116165 select 01:52 ?       00:00:01 /usr/bin/python3 -m ipykernel_launcher -f /root/.local/share/jupyter/runtime/kernel-119e19ff-06aa-44f5-b8f6-1e7ed07bbfba.json\n",
        "1 S root          92       1  0  80   0 - 23283 futex_ 01:52 ?        00:00:00 /usr/bin/python3 /usr/local/lib/python3.7/dist-packages/debugpy/adapter --for-server 36863 --host 127.0.0.1 --port 21946 --server-access-token f1b0b15d8a590be1ec3fe7efcb40e8abef22fe8ae9d75dbbe6bc0c8974df129d\n",
        "4 R root         109       6  0  80   0 - 68992 -      01:52 ?        00:00:00 node /datalab/web/pyright/pyright-langserver.js --stdio --cancellationReceive=file:baf0d2391abc5a9aefea1986ed6fa989cc6255716e\n",
        "4 S root         116      74  0  80   0 -  9802 wait   01:52 ?        00:00:00 /bin/bash -c ps -Afl > ps.txt\n",
        "4 R root         117     116  0  80   0 - 14761 -      01:52 ?        00:00:00 ps -Afl\n",
        "```"
      ],
      "metadata": {
        "id": "5UvxV5ktds3S"
      }
    },
    {
      "cell_type": "markdown",
      "source": [
        "# プロセスの層\n",
        "1:/sbin/docker-init -- /datalab/run.sh\n",
        "```\n",
        "#!/bin/bash -e\n",
        "\n",
        "# Copyright 2017 Google Inc. All rights reserved.\n",
        "#\n",
        "# Licensed under the Apache License, Version 2.0 (the \"License\");\n",
        "# you may not use this file except in compliance with the License.\n",
        "# You may obtain a copy of the License at\n",
        "#\n",
        "#  http://www.apache.org/licenses/LICENSE-2.0\n",
        "#\n",
        "# Unless required by applicable law or agreed to in writing, software\n",
        "# distributed under the License is distributed on an \"AS IS\" BASIS,\n",
        "# WITHOUT WARRANTIES OR CONDITIONS OF ANY KIND, either express or implied.\n",
        "# See the License for the specific language governing permissions and\n",
        "# limitations under the License.\n",
        "\n",
        "if [[ -e /customize_for_vm_type.sh ]]; then\n",
        "  /customize_for_vm_type.sh\n",
        "fi\n",
        "\n",
        "# Start the Colab proxy to the Jupyter kernel manager.\n",
        "( while true; do\n",
        "  GCE_METADATA_HOST=\"${VM_GCE_METADATA_HOST}\" \\\n",
        "  /usr/colab/bin/kernel_manager_proxy \\\n",
        "    --listen_port=\"${KMP_LISTEN_PORT}\" \\\n",
        "    --target_port=\"${KMP_TARGET_PORT}\" \\\n",
        "    ${KMP_EXTRA_ARGS} || true\n",
        "  sleep 1\n",
        "done & )\n",
        "\n",
        "# Start fresh to isolate user-initiated actions from VM build & startup events.\n",
        "for f in /var/log/apt/history.log /var/log/pip.log; do\n",
        "  mv \"$f\" \"${f}.bak-run.sh\" || true  # Ignore missing files.\n",
        "done\n",
        "\n",
        "# Warm disk buffers for modules we need for kernel startup. (cf: b/116536906)\n",
        "python3 -c \"import google.colab._kernel\"\n",
        "python3 -c \"import matplotlib\"\n",
        "python3 -c \"import tensorflow\" &\n",
        "\n",
        "# Start the server to handle /files and /api/contents requests.\n",
        "/usr/local/bin/colab-fileshim.py &\n",
        "\n",
        "# Link NVidia tools from a read-only volume mount.\n",
        "for f in $(ls /opt/bin/.nvidia 2>/dev/null); do\n",
        "  ln -st /opt/bin \".nvidia/${f}\"\n",
        "done\n",
        "\n",
        "cd /\n",
        "\n",
        "# Start the node server.\n",
        "exec /tools/node/bin/node /datalab/web/app.js\n",
        "```\n",
        "↓\n",
        "→ 6:/tools/node/bin/node /datalab/web/app.js\n",
        "\n",
        "　　↓\n",
        "→45:python3 /usr/local/bin/colab-fileshim.py\n",
        "\n",
        "　　↓\n",
        "→60:/usr/bin/python3 /usr/local/bin/jupyter-notebook --ip=172.28.0.2 --port=9000 --FileContentsManager.root_dir=/ --MappingKernelManager.root_dir=/content\n",
        "\n",
        "　　　　↓\n",
        "→74:/usr/bin/python3 -m ipykernel_launcher -f ***/root/.local/share/jupyter/runtime/kernel-119e19ff-06aa-44f5-b8f6-1e7ed07bbfba.json***\n",
        "\n",
        "　　　　　　↓\n",
        "→116:/bin/bash -c ps -Afl > ps.txt\n",
        "\n",
        "　　　　　　　↓\n",
        "→117:ps -Afl\n",
        "\n",
        "　　↓\n",
        "→61:/usr/local/bin/dap_multiplexer --domain_socket_path=/tmp/debugger_nxw55y8j\n",
        "\n",
        "\n",
        "\n",
        "　　↓\n",
        "→109:node /datalab/web/pyright/pyright-langserver.js --stdio --cancellationReceive=file:baf0d2391abc5a9aefea1986ed6fa989cc6255716e\n",
        "\n",
        "↓→31:/bin/bash -e /datalab/run.sh\n",
        "\n",
        "　　↓\n",
        "→32:/usr/colab/bin/kernel_manager_proxy --listen_port=6000 --target_port=9000\n",
        "\n",
        "↓→:92/usr/bin/python3 /usr/local/lib/python3.7/dist-packages/debugpy/adapter --for-server 36863 --host 127.0.0.1 --port 21946 --server-access-token f1b0b15d8a590be1ec3fe7efcb40e8abef22fe8ae9d75dbbe6bc0c8974df129d\n",
        "\n",
        "\n",
        "**/root/.local/share/jupyter/runtime/kernel-119e19ff-06aa-44f5-b8f6-1e7ed07bbfba.json**の中身\n",
        "```\n",
        "{\n",
        "  \"shell_port\": 54273,\n",
        "  \"iopub_port\": 50447,\n",
        "  \"stdin_port\": 49571,\n",
        "  \"control_port\": 51217,\n",
        "  \"hb_port\": 52829,\n",
        "  \"ip\": \"127.0.0.1\",\n",
        "  \"key\": \"\",\n",
        "  \"transport\": \"tcp\",\n",
        "  \"signature_scheme\": \"hmac-sha256\",\n",
        "  \"kernel_name\": \"\"\n",
        "}\n",
        "```\n",
        "# 上記portのプロセスは皆、同じで\n",
        "```\n",
        "!netstat -nap|egrep '(:54273|:50447|:49571|:51217|:52829)'\n",
        "```\n",
        "```\n",
        "tcp        0      0 127.0.0.1:52829         0.0.0.0:*               LISTEN      74/python3          \n",
        "tcp        0      0 127.0.0.1:54273         0.0.0.0:*               LISTEN      74/python3          \n",
        "tcp        0      0 127.0.0.1:49571         0.0.0.0:*               LISTEN      74/python3          \n",
        "tcp        0      0 127.0.0.1:50447         0.0.0.0:*               LISTEN      74/python3          \n",
        "tcp        0      0 127.0.0.1:51217         0.0.0.0:*               LISTEN      74/python3          \n",
        "tcp        0      0 127.0.0.1:50447         127.0.0.1:39686         ESTABLISHED 74/python3          \n",
        "tcp        0      0 127.0.0.1:39686         127.0.0.1:50447         ESTABLISHED 60/python3          \n",
        "tcp        0    460 127.0.0.1:49116         127.0.0.1:54273         ESTABLISHED 60/python3          \n",
        "tcp        0      0 127.0.0.1:51217         127.0.0.1:33162         ESTABLISHED 74/python3          \n",
        "tcp        0      0 127.0.0.1:50447         127.0.0.1:39674         ESTABLISHED 74/python3          \n",
        "tcp        0      0 127.0.0.1:56674         127.0.0.1:49571         ESTABLISHED 60/python3          \n",
        "tcp        0      0 127.0.0.1:39674         127.0.0.1:50447         ESTABLISHED 60/python3          \n",
        "tcp        0      0 127.0.0.1:49571         127.0.0.1:56674         ESTABLISHED 74/python3          \n",
        "tcp        0      0 127.0.0.1:54273         127.0.0.1:49116         ESTABLISHED 74/python3          \n",
        "tcp        0      0 127.0.0.1:33162         127.0.0.1:51217         ESTABLISHED 60/python3 \n",
        "```\n",
        "\n",
        "\n",
        "ipykernel_launcher\n",
        "\n",
        "/usr/local/lib/python3.7/dist-packages/ipykernel_launcher.py\n",
        "\n",
        "# また、以下のPORTプロセス層もどうなんだ！！\n",
        "\n",
        "/usr/colab/bin/kernel_manager_proxy --listen_port=6000 --target_port=9000\n",
        "\n",
        "で上記target_port=9000はjupyter notebook起動時のPORT\n",
        "\n",
        "これは、127系のポートで動くのを何等かProxyをlocalからの要求転送してると思われる\n",
        "\n",
        "```\n",
        "tcp        0      0 127.0.0.1:6000          0.0.0.0:*               LISTEN      33/kernel_manager_p \n",
        "tcp        0      0 172.28.0.2:9000         0.0.0.0:*               LISTEN      60/python3          \n",
        "tcp        0      0 172.28.0.2:9000         172.28.0.3:46126        ESTABLISHED 60/python3          \n",
        "tcp        0      0 172.28.0.2:9000         172.28.0.3:35172        ESTABLISHED 60/python3          \n",
        "tcp        0      0 172.28.0.2:37256        172.28.0.3:6000         ESTABLISHED 6/node      \n",
        "```\n",
        "node ⇒172.28.0.3:6000\n",
        "  \n",
        "  ⇒127.0.0.1:6000\n",
        "  \n",
        "  　　⇒/usr/colab/bin/kernel_manager_proxy --listen_port=6000 --target_port=9000\n",
        "\n",
        "  　　　⇒172.28.0.2:9000\n",
        "\n",
        "  　　　　⇒/usr/bin/python3 /usr/local/bin/jupyter-notebook --ip=172.28.0.2 --port=9000 --FileContentsManager.root_dir=/ --MappingKernelManager.root_dir=/content\n",
        "\n",
        "---\n",
        "172.28.0.3って・・・\n",
        "\n",
        "```\n",
        "eth0: flags=4163<UP,BROADCAST,RUNNING,MULTICAST>  mtu 1500\n",
        "        inet 172.28.0.2  netmask 255.255.0.0  broadcast 172.28.255.255\n",
        "        ether 02:42:ac:1c:00:02  txqueuelen 0  (Ethernet)\n",
        "        RX packets 12992  bytes 4230043 (4.2 MB)\n",
        "        RX errors 0  dropped 0  overruns 0  frame 0\n",
        "        TX packets 11402  bytes 2949367 (2.9 MB)\n",
        "        TX errors 0  dropped 0 overruns 0  carrier 0  collisions 0\n",
        "\n",
        "lo: flags=73<UP,LOOPBACK,RUNNING>  mtu 65536\n",
        "        inet 127.0.0.1  netmask 255.0.0.0\n",
        "        loop  txqueuelen 1000  (Local Loopback)\n",
        "        RX packets 23150  bytes 5684326 (5.6 MB)\n",
        "        RX errors 0  dropped 0  overruns 0  frame 0\n",
        "        TX packets 23150  bytes 5684326 (5.6 MB)\n",
        "        TX errors 0  dropped 0 overruns 0  carrier 0  collisions 0\n",
        "```"
      ],
      "metadata": {
        "id": "Xaz8IMQzVClH"
      }
    },
    {
      "cell_type": "markdown",
      "source": [
        "# nodeで起動の /datalab/web/app.js　の中身\n",
        "\n",
        "```\n",
        "\"use strict\";\n",
        "/*\n",
        " * Copyright 2015 Google Inc. All rights reserved.\n",
        " *\n",
        " * Licensed under the Apache License, Version 2.0 (the \"License\"); you may not use this file except\n",
        " * in compliance with the License. You may obtain a copy of the License at\n",
        " *\n",
        " * http://www.apache.org/licenses/LICENSE-2.0\n",
        " *\n",
        " * Unless required by applicable law or agreed to in writing, software distributed under the License\n",
        " * is distributed on an \"AS IS\" BASIS, WITHOUT WARRANTIES OR CONDITIONS OF ANY KIND, either express\n",
        " * or implied. See the License for the specific language governing permissions and limitations under\n",
        " * the License.\n",
        " */\n",
        "Object.defineProperty(exports, \"__esModule\", { value: true });\n",
        "var fs = require(\"fs\");\n",
        "var path = require(\"path\");\n",
        "var logging = require(\"./logging\");\n",
        "var server = require(\"./server\");\n",
        "/**\n",
        " * Loads the configuration settings for the application to use.\n",
        " * On first run, this generates any dynamic settings and merges them into the\n",
        " * settings result.\n",
        " * @returns the settings object for the application to use.\n",
        " */\n",
        "function loadAppSettings() {\n",
        "    var settingsPath = path.join(__dirname, 'config', 'settings.json');\n",
        "    if (!fs.existsSync(settingsPath)) {\n",
        "        var msg = \"App settings file \\\"\".concat(settingsPath, \"\\\" not found.\");\n",
        "        console.error(msg);\n",
        "        throw new Error(msg);\n",
        "    }\n",
        "    try {\n",
        "        var settings = JSON.parse(fs.readFileSync(settingsPath, 'utf8') || '{}');\n",
        "        var settingsOverrides = process.env['DATALAB_SETTINGS_OVERRIDES'];\n",
        "        if (settingsOverrides) {\n",
        "            // Allow overriding individual settings via JSON provided as an environment variable.\n",
        "            var overrides = JSON.parse(settingsOverrides);\n",
        "            Object.assign(settings, overrides);\n",
        "        }\n",
        "        return settings;\n",
        "    }\n",
        "    catch (e) {\n",
        "        console.error(e);\n",
        "        throw new Error(\"Error parsing settings overrides: \".concat(e));\n",
        "    }\n",
        "}\n",
        "/**\n",
        " * Load the configuration settings, and then start the server, which\n",
        " * runs indefinitely, listening to and processing incoming HTTP requests.\n",
        " */\n",
        "var appSettings = loadAppSettings();\n",
        "if (appSettings != null) {\n",
        "    logging.initializeLoggers(appSettings);\n",
        "    server.run(appSettings);\n",
        "}\n",
        "/**\n",
        " * Handle shutdown of this process, to also stop the server, which will in turn stop the\n",
        " * associated Jupyter server process.\n",
        " */\n",
        "function exit() {\n",
        "    logging.getLogger().info('app: exit');\n",
        "    server.stop();\n",
        "    logging.getLogger().info('app: exit: stopped');\n",
        "    process.exit(0);\n",
        "}\n",
        "/**\n",
        " * Handle uncaught exceptions to log them.\n",
        " */\n",
        "function errorHandler(e) {\n",
        "    console.error(e.stack);\n",
        "    logging.getLogger().error(e, 'Unhandled exception');\n",
        "    process.exit(1);\n",
        "}\n",
        "process.on('uncaughtException', errorHandler);\n",
        "process.on('exit', exit);\n",
        "process.on('SIGINT', exit);\n",
        "process.on('SIGTERM', exit);\n",
        "//# sourceMappingURL=data:application/json;base64,eyJ2....ZXhpdCk7XG4iXX0=\n",
        "```"
      ],
      "metadata": {
        "id": "XWzdtA_klwwZ"
      }
    },
    {
      "cell_type": "code",
      "source": [
        "!ls -la /"
      ],
      "metadata": {
        "id": "IESJsmncuUT1"
      },
      "execution_count": null,
      "outputs": []
    },
    {
      "cell_type": "markdown",
      "source": [
        "# 以下で　ipython profileディレクトリが見れるそうだ\n",
        "\n",
        "```\n",
        "!ls -la `ipython profile locate default`\n",
        "```\n",
        "```\n",
        "total 132\n",
        "drwxr-xr-x 7 root root  4096 Nov 15 14:47 .\n",
        "drwxr-xr-x 5 root root  4096 Nov 15 14:46 ..\n",
        "drwxr-xr-x 2 root root  4096 Nov 15 14:47 db\n",
        "-rw-r--r-- 1 root root 28672 Nov 15 14:47 history.sqlite\n",
        "-rw-r--r-- 1 root root 38474 Nov 15 14:46 ipython_config.py\n",
        "-rw-r--r-- 1 root root 33065 Nov 15 14:46 ipython_kernel_config.py\n",
        "drwxr-xr-x 2 root root  4096 Nov 15 14:46 log\n",
        "drwx------ 2 root root  4096 Nov 15 14:46 pid\n",
        "drwx------ 2 root root  4096 Nov 15 14:46 security\n",
        "drwxr-xr-x 2 root root  4096 Nov 15 14:46 startup\n",
        "```\n",
        "##他にもipythonの実行で稼働が見れるようだ、試してみよう！！\n"
      ],
      "metadata": {
        "id": "zByPV5GGhQsB"
      }
    },
    {
      "cell_type": "code",
      "source": [
        "!/usr/bin/python3 /usr/local/bin/jupyter-notebook --ip=172.28.0.2 --port=8888 --FileContentsManager.root_dir=/ --MappingKernelManager.root_dir=/home/engbjapan/"
      ],
      "metadata": {
        "id": "5rTBvqX6GyWW"
      },
      "execution_count": null,
      "outputs": []
    },
    {
      "cell_type": "markdown",
      "source": [
        "# さて、拡張使う前にyupyterの起動は以下で一応したが。\n",
        "Tokenが表示されず、バックグラウンドで動かないっからこれも解決するよ！\n",
        "\n",
        "https://ipython.org/ipython-doc/3/config/options/notebook.html\n",
        "は？tokenの起動時指定が見当たらない\n",
        "\n",
        "後は、ダイレクトに\n",
        "jupyter notebook --create-conmfig\n",
        "で作ったconfigにTokenを適当に設定する手：\n",
        "\n",
        "```\n",
        "!su - engbjapan -c \"/usr/bin/python3 /usr/local/bin/jupyter-notebook \\\n",
        "--ip=127.0.0.1 --port=8888 --FileContentsManager.root_dir=/ \\\n",
        "--MappingKernelManager.root_dir=/home/engbjapan/ --NotebookApp.allow_origin='https://colab.research.google.com'\"\n",
        "```\n",
        "--ip=127.0.0.1 指定がSocketBiond出来たから必須\n",
        "\n",
        "```\n",
        "|WARNING|Notebook version 5 is no longer maintained. Please upgrade to version 6 or later.\n",
        "***Debug***\n",
        "        sockaddr('127.0.0.1', 8888)\n",
        "|DEBUG|Paths used for configuration of jupyter_notebook_config: \n",
        "    \t/etc/jupyter/jupyter_notebook_config.json\n",
        "|DEBUG|Paths used for configuration of jupyter_notebook_config: \n",
        "    \t/usr/local/etc/jupyter/jupyter_notebook_config.d/panel-client-jupyter.json\n",
        "    \t/usr/local/etc/jupyter/jupyter_notebook_config.json\n",
        "|DEBUG|Paths used for configuration of jupyter_notebook_config: \n",
        "    \t/usr/etc/jupyter/jupyter_notebook_config.json\n",
        "|DEBUG|Paths used for configuration of jupyter_notebook_config: \n",
        "    \t/home/engbjapan/.local/etc/jupyter/jupyter_notebook_config.json\n",
        "|DEBUG|Paths used for configuration of jupyter_notebook_config: \n",
        "    \t/home/engbjapan/.jupyter/jupyter_notebook_config.json\n",
        "|INFO|google.colab serverextension initialized.\n",
        "jupyter_http_over_ws extension initialized. Listening on /http_over_websocket\n",
        "|INFO|Serving notebooks from local directory: /\n",
        "|INFO|The Jupyter Notebook is running at:\n",
        "|INFO|**http://127.0.0.1:8888/**\n",
        "|INFO|Use Control-C to stop this server and shut down all kernels (twice to skip confirmation).\n",
        "\n",
        "Session terminated, terminating shell...|INFO|interrupted\n",
        "Serving notebooks from local directory: /\n",
        "0 active kernels\n",
        "The Jupyter Notebook is running at:\n",
        "**http://127.0.0.1:8888/**\n",
        "Shutdown this notebook server (y/[n])? No answer for 5s: resuming operation...\n",
        "y\n",
        "```"
      ],
      "metadata": {
        "id": "esUiTQTMiP9H"
      }
    },
    {
      "cell_type": "markdown",
      "source": [
        "# jupyter connfig 見る\n",
        "```\n",
        "!find / -name \"*jupyter_notebook_config.py\" 2>/dev/nul|while read f;do printf \"file:${f}\\n=====\\n\";cat $f|egrep '^[^\\#]+.*$';done\n",
        "```\n",
        "```\n",
        "file:/root/.jupyter/jupyter_notebook_config.py\n",
        "=====\n",
        "file:/etc/jupyter/jupyter_notebook_config.py\n",
        "=====\n",
        "\"\"\"Jupyter notebook server configuration for Colab runtimes.\"\"\"\n",
        "import logging\n",
        "c = get_config()  # pylint: disable=undefined-variable\n",
        "c.JupyterApp.answer_yes = True\n",
        "c.NotebookApp.open_browser = False\n",
        "c.NotebookApp.allow_root = True\n",
        "c.Application.log_level = logging.DEBUG\n",
        "c.NotebookApp.log_format = '|%(levelname)s|%(message)s'\n",
        "c.NotebookApp.port_retries = 0\n",
        "c.NotebookApp.login_handler_class = (\n",
        "    'google.colab._login_handler.ColabLoginHandler')\n",
        "c.MultiKernelManager.default_kernel_name = 'python3'\n",
        "c.NotebookApp.allow_origin = '*'\n",
        "c.NotebookApp.allow_remote_access = True\n",
        "c.NotebookApp.disable_check_xsrf = True\n",
        "c.NotebookApp.token = ''\n",
        "c.Session.key = b''\n",
        "c.Session.keyfile = ''\n",
        "```\n",
        "\n",
        "su - {ユーザ} -c 'jupyter notebook --create-config'\n",
        "\n",
        "して\n",
        "\n",
        "「/etc/jupyter/jupyter_notebook_config.py」のCopyを/home/{ユーザ}/.jupyter/以下に\n",
        "\n",
        "c.NotebookApp.token = 'XXXXXXXXX'\n",
        "にtoken指定して\n",
        "su - engbjapan -c 'jupyter notebook ...'\n",
        "を実行では？？\n"
      ],
      "metadata": {
        "id": "fSRAmmTry3WK"
      }
    }
  ]
}